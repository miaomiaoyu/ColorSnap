{
 "cells": [
  {
   "cell_type": "code",
   "execution_count": null,
   "metadata": {},
   "outputs": [],
   "source": [
    "import numpy as np\n",
    "from PIL import Image\n",
    "from sklearn.cluster import KMeans\n",
    "\n",
    "def cluster_image_rgb_values(image, n_colors=10):\n",
    "    \"\"\"Cluster image RGB values using KMeans.\"\"\"\n",
    "    image = image.convert(\"RGB\")\n",
    "    image_array = np.array(image).reshape(-1, 3)  # Flatten to (num_pixels, 3)\n",
    "    kmeans = KMeans(n_clusters=n_colors, random_state=1, n_init=10)\n",
    "    kmeans.fit(image_array)\n",
    "    clusters = kmeans.cluster_centers_.astype(int)\n",
    "    return clusters\n",
    "\n",
    "image = Image.open('image.png')\n",
    "clusters = cluster_image_rgb_values(image, n_colors=10)\n",
    "clusters"
   ]
  }
 ],
 "metadata": {
  "kernelspec": {
   "display_name": "Python 3",
   "language": "python",
   "name": "python3"
  },
  "language_info": {
   "codemirror_mode": {
    "name": "ipython",
    "version": 3
   },
   "file_extension": ".py",
   "mimetype": "text/x-python",
   "name": "python",
   "nbconvert_exporter": "python",
   "pygments_lexer": "ipython3",
   "version": "3.9.6"
  }
 },
 "nbformat": 4,
 "nbformat_minor": 2
}
